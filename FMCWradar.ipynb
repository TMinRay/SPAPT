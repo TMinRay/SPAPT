{
 "cells": [
  {
   "cell_type": "code",
   "execution_count": 2,
   "id": "8afc169f",
   "metadata": {},
   "outputs": [],
   "source": [
    "import numpy as np\n",
    "from scipy import constants \n",
    "import matplotlib.pyplot as plt\n",
    "import os\n",
    "\n",
    "def fftconvolve(ax,ay,axis=-1):\n",
    "    nex=ax.shape[axis]+ay.shape[axis]-1\n",
    "    return np.fft.ifft(np.fft.fft(ax,n=nex,axis=axis)*np.fft.fft(ay,n=nex,axis=axis),axis=axis)"
   ]
  },
  {
   "cell_type": "code",
   "execution_count": 3,
   "id": "289fdc85",
   "metadata": {},
   "outputs": [],
   "source": [
    "TS = 290        # noise temperature K\n",
    "npulse = 16    # number of pulses in sequence\n",
    "# nfft = 512      # zero padding in fft\n",
    "Pt = 100        # peak power    W\n",
    "G = 100         # Gain\n",
    "F0 = 10.35e9       # carrier frequency Hz\n",
    "wavelength = constants.c/F0     # radar wavelength  m\n",
    "B=20e6\n",
    "ts = 5e-9       # sample rate   s\n",
    "PRF = 750e3     # PRF   Hz\n",
    "PRT=1/PRF\n",
    "Tx = 1/PRF      # pulse width\n",
    "Va=constants.c*PRF/4/F0\n",
    "Lx=Tx/ts\n",
    "chirp = B/Tx\n",
    "Ra=constants.c/PRF/2    # maximum unambiguous range\n",
    "# print(Ra)\n",
    "# rref = 3e3-500\n",
    "rref = 0\n",
    "# rswath = 1000\n",
    "rswath = Ra\n",
    "tref = 2*rref/constants.c\n",
    "# tref = 0\n",
    "\n",
    "de = wavelength/2\n",
    "xx,yy = np.meshgrid(np.arange(-3.5,3.6,1),np.arange(-1.5,1.6,1))\n",
    "element_loc0 = np.array([xx.flatten(),yy.flatten(),np.zeros(xx.size)]).transpose()*de\n",
    "\n",
    "theta0 = 0 * np.pi/180  # azimuth y->x\n",
    "phi0 = 0 * np.pi/180    #zenith\n",
    "a0 = np.array([np.sin(phi0)*np.sin(theta0), np.sin(phi0)*np.cos(theta0), np.cos(phi0)])[:,np.newaxis,np.newaxis]\n",
    "\n",
    "txp = np.arange(0,Tx,ts)    # discrete time of pulse\n",
    "# create pulse window\n",
    "tmpwd = np.hanning(txp.size//10)\n",
    "wd = np.ones(txp.size)\n",
    "wd[:tmpwd.size//2] = tmpwd[:tmpwd.size//2]\n",
    "wd[-tmpwd.size//2:] = tmpwd[-tmpwd.size//2:]\n",
    "tx = np.zeros(txp.shape,dtype=np.complex128)\n",
    "tx[:tx.size//2] = Pt*wd[:tx.size//2]*np.exp((-np.pi*B*txp[:tx.size//2]+np.pi*chirp*txp[:tx.size//2]**2)*1j) # transmit waveform\n",
    "txpl=txp[tx.size//2:]-txp[tx.size//2]\n",
    "tx[tx.size//2:] = Pt*wd[tx.size//2:]*np.exp((np.pi*B*txpl-np.pi*chirp*txpl**2)*1j)\n",
    "tf = np.arange(1e-5*ts,(2*rswath/constants.c)//ts*ts+1e-5*ts,ts)  # fast time\n",
    "fast_time = tf[np.newaxis,:]\n",
    "tm = np.arange(npulse)*PRT\n",
    "tm = tm[:,np.newaxis]\n",
    "Faxe=np.arange(-1/2/ts,1/2/ts,1/ts/tf.size)  # frequency after fft\n",
    "Faxe = Faxe[np.newaxis,:]"
   ]
  },
  {
   "cell_type": "code",
   "execution_count": null,
   "id": "50f4173d",
   "metadata": {},
   "outputs": [],
   "source": [
    "def fire_pulse(element_loct,target_p):\n",
    "    total_rx = np.zeros((npulse,tf.size,int(element_loct.shape[0])),dtype=tx.dtype)\n",
    "    for Rtar,Vtar,rcs, azt, elt in zip(*target_p):\n",
    "        tau_0 = 2*Rtar/constants.c # first pulse target time delay\n",
    "        FD = 2*Vtar/wavelength  # target doppler\n",
    "        ARtar = constants.c*(tau_0-np.floor(tau_0/PRT)*PRT)/2 # apperent range of target\n",
    "        Radar_c = np.sqrt(G**2*wavelength**2*rcs/(4*np.pi)**3)\n",
    "        # *np.exp(2j*np.pi*np.random.random(1)) # radar constant without scale of range\n",
    "        rr = constants.c*(tau_0)/2       # range\n",
    "        Radar_c = Radar_c/rr**2     # return power\n",
    "    \n",
    "        rx=np.zeros(tf.shape,dtype=tx.dtype)       # received signal\n",
    "        rx[:tx.size]=tx\n",
    "    \n",
    "        tau_m = 2*(Rtar-tm*Vtar)/constants.c-tref\n",
    "        rx=np.tile(rx,(npulse,1))\n",
    "        Radar_c=Radar_c\n",
    "        frx=np.fft.fftshift(np.fft.fft(rx,axis=1),axes=1) \n",
    "            # frequency content of received signal\n",
    "        dfrx=frx*np.exp(-2j*np.pi*Faxe*tau_m)   # time delay in frequency domain\n",
    "    \n",
    "        rx=np.fft.ifft(np.fft.fftshift(dfrx,axes=1))*Radar_c\n",
    "        rx=rx*np.exp(2j*np.pi*FD*fast_time)*np.exp(-2j*np.pi*F0*tau_m)\n",
    "        az = azt*np.pi/180\n",
    "        ele = elt*np.pi/180\n",
    "        targetRvector = np.array([np.sin(ele)*np.sin(az),np.sin(ele)*np.cos(az),np.cos(ele)])[np.newaxis,:]\n",
    "        dl = np.sum(element_loct*targetRvector,axis=1)[np.newaxis,np.newaxis,:]\n",
    "        total_rx=total_rx+rx[:,:,np.newaxis]*np.exp(-2j*np.pi*dl/wavelength)\n",
    "    return total_rx"
   ]
  },
  {
   "cell_type": "code",
   "execution_count": 5,
   "id": "c15e2e6d",
   "metadata": {},
   "outputs": [],
   "source": [
    "txpl=txp[tx.size//2:]-txp[tx.size//2]"
   ]
  },
  {
   "cell_type": "code",
   "execution_count": 4,
   "id": "7b6085cf",
   "metadata": {},
   "outputs": [
    {
     "data": {
      "text/plain": [
       "267"
      ]
     },
     "execution_count": 4,
     "metadata": {},
     "output_type": "execute_result"
    }
   ],
   "source": [
    "tx.size"
   ]
  },
  {
   "cell_type": "code",
   "execution_count": null,
   "id": "23fcda19",
   "metadata": {},
   "outputs": [],
   "source": []
  }
 ],
 "metadata": {
  "kernelspec": {
   "display_name": "Python 3 (ipykernel)",
   "language": "python",
   "name": "python3"
  },
  "language_info": {
   "codemirror_mode": {
    "name": "ipython",
    "version": 3
   },
   "file_extension": ".py",
   "mimetype": "text/x-python",
   "name": "python",
   "nbconvert_exporter": "python",
   "pygments_lexer": "ipython3",
   "version": "3.7.16"
  }
 },
 "nbformat": 4,
 "nbformat_minor": 5
}
