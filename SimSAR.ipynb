{
 "cells": [
  {
   "cell_type": "code",
   "execution_count": null,
   "id": "397b9440-566d-4a41-90d8-e6263d17744e",
   "metadata": {},
   "outputs": [],
   "source": [
    "import numpy as np\n",
    "from scipy import constants \n",
    "import matplotlib.pyplot as plt\n",
    "import os\n",
    "\n",
    "def fftconvolve(ax,ay,axis=-1):\n",
    "    nex=ax.shape[axis]+ay.shape[axis]-1\n",
    "    return np.fft.ifft(np.fft.fft(ax,n=nex,axis=axis)*np.fft.fft(ay,n=nex,axis=axis),axis=axis)\n",
    "\n",
    "def DBF(gaz,gele,wl,a0,element_pos,we):\n",
    "    k=np.pi*2/wl\n",
    "    # thetaxy = np.arctan2(np.tan(thetay),np.tan(thetax))\n",
    "    # phixy = np.arctan(np.sqrt(np.tan(thetay)**2+np.tan(thetax)**2))\n",
    "    ar = np.array([np.sin(gele)*np.sin(gaz), np.sin(gele)*np.cos(gaz), np.cos(gele)])\n",
    "    ar = ar-a0\n",
    "    # print(ar)\n",
    "    Exy=np.zeros((*we.shape[:2],*ar.shape[1:]))\n",
    "    for ie in range(element_pos.shape[0]):\n",
    "        de = element_pos[ie,:]\n",
    "        element_phase = np.sum(ar*de[:,np.newaxis,np.newaxis],axis=0)\n",
    "        # print(element_phase*180/np.pi)|\n",
    "        xe = we[:,:,ie]\n",
    "        Exy = Exy + xe[:,:,np.newaxis,np.newaxis]*np.exp(1j*k*element_phase)[np.newaxis,np.newaxis,:,:]\n",
    "    return Exy\n",
    "\n",
    "def element_rotate(element_pos,deltadeg):\n",
    "    # this rotation is clockwise not math degree\n",
    "    deltadeg=deltadeg*np.pi/180\n",
    "    Mr = np.array([[np.cos(deltadeg),np.sin(deltadeg),0],[-np.sin(deltadeg),np.cos(deltadeg),0],[0,0,1]])\n",
    "    return np.transpose(np.matmul(Mr,np.transpose(element_pos)))"
   ]
  },
  {
   "cell_type": "markdown",
   "id": "94aa0fde-8bae-4c09-96f0-1d77880005f3",
   "metadata": {},
   "source": [
    "### beamforming @ AZ, ELE "
   ]
  },
  {
   "cell_type": "code",
   "execution_count": null,
   "id": "64b988f2-1eaa-4e7f-98cb-de437e402c97",
   "metadata": {},
   "outputs": [],
   "source": [
    "# beamaz = np.arange(-180,180,5)\n",
    "# beamele = np.arange(-45,45,3)\n",
    "# thetaaz, thetaele = np.meshgrid(beamaz, beamele)\n",
    "# thetaaz = thetaaz * np.pi/180\n",
    "# thetaele = thetaele * np.pi/180\n",
    "# thetax = np.arcsin(np.sin(thetaele)*np.sin(thetaaz))*180/np.pi\n",
    "# thetay = np.arcsin(np.sin(thetaele)*np.cos(thetaaz))*180/np.pi"
   ]
  },
  {
   "cell_type": "markdown",
   "id": "923d4bdb-5400-4b2a-84c6-83dbbafb0fdc",
   "metadata": {},
   "source": [
    "### beamforming @ $\\theta_x$, $\\theta_y$ "
   ]
  },
  {
   "cell_type": "code",
   "execution_count": null,
   "id": "0cba49ad-8d49-4346-9bc6-87e56a3b19e4",
   "metadata": {},
   "outputs": [],
   "source": [
    "beamx = np.arange(-45,46,1.5) * np.pi/180\n",
    "beamy = np.arange(-45,46,1.5) * np.pi/180\n",
    "thetax, thetay = np.meshgrid(beamx, beamy)\n",
    "thetaele = np.arccos(np.sqrt(1-np.sin(thetax)**2-np.sin(thetay)**2))\n",
    "thetaaz = np.arctan2(np.sin(thetax),np.sin(thetay))\n",
    "thetax = thetax*180/np.pi\n",
    "thetay = thetay*180/np.pi"
   ]
  },
  {
   "cell_type": "code",
   "execution_count": null,
   "id": "09303030-fa51-4aac-bd08-356da7f82080",
   "metadata": {},
   "outputs": [],
   "source": [
    "os.makedirs('output/',exist_ok=True)\n",
    "\n",
    "TS = 290        # noise temperature K\n",
    "npulse = 16    # number of pulses in sequence\n",
    "nfft = 512      # zero padding in fft\n",
    "Pt = 100        # peak power    W\n",
    "G = 100         # Gain\n",
    "F0 = 3e9       # carrier frequency Hz\n",
    "wavelength = constants.c/F0     # radar wavelength  m\n",
    "B=200e6/10\n",
    "ts = 5e-9       # sample rate   s\n",
    "Tx = 1e-6       # pulse width\n",
    "PRF = 10e3     # PRF   Hz\n",
    "PRT=1/PRF\n",
    "Va=constants.c*PRF/4/F0\n",
    "Lx=Tx/ts\n",
    "chirp = B/Tx\n",
    "Ra=constants.c/PRF/2    # maximum unambiguous range\n",
    "# print(Ra)\n",
    "rref = 3e3-500\n",
    "rswath = 1000\n",
    "tref = 2*rref/constants.c\n",
    "\n",
    "de = wavelength/2\n",
    "xx,yy = np.meshgrid(np.arange(-3.5,3.6,1),np.arange(-1.5,1.6,1))\n",
    "element_loc0 = np.array([xx.flatten(),yy.flatten(),np.zeros(xx.size)]).transpose()*de\n",
    "\n",
    "theta0 = 0 * np.pi/180  # azimuth y->x\n",
    "phi0 = 0 * np.pi/180    #zenith\n",
    "a0 = np.array([np.sin(phi0)*np.sin(theta0), np.sin(phi0)*np.cos(theta0), np.cos(phi0)])[:,np.newaxis,np.newaxis]\n",
    "\n",
    "txp = np.arange(0,Tx,ts)    # discrete time of pulse\n",
    "# create pulse window\n",
    "tmpwd = np.hanning(txp.size//10)\n",
    "wd = np.ones(txp.size)\n",
    "wd[:tmpwd.size//2] = tmpwd[:tmpwd.size//2]\n",
    "wd[-tmpwd.size//2:] = tmpwd[-tmpwd.size//2:]\n",
    "tx=Pt*wd*np.exp((-np.pi*B*txp+np.pi*chirp*txp**2)*1j) # transmit waveform\n",
    "tf = np.arange(1e-5*ts,(2*rswath/constants.c)//ts*ts+1e-5*ts,ts)  # fast time\n",
    "fast_time = tf[np.newaxis,:]\n",
    "tm = np.arange(npulse)*PRT\n",
    "tm = tm[:,np.newaxis]\n",
    "Faxe=np.arange(-1/2/ts,1/2/ts,1/ts/tf.size)  # frequency after fft\n",
    "Faxe = Faxe[np.newaxis,:]\n",
    "\n",
    "# fft_wd = 'Hanning'\n",
    "# r_wd = 'Hanning'\n",
    "# casename = 'r_'+r_wd+'-v_'+fft_wd"
   ]
  },
  {
   "cell_type": "code",
   "execution_count": null,
   "id": "2585e4b9-b921-4954-8a68-07b899e75995",
   "metadata": {},
   "outputs": [],
   "source": [
    "def fire_pulse(element_loct,target_para):\n",
    "    total_rx = np.zeros((npulse,tf.size,int(element_loct.shape[0])),dtype=tx.dtype)\n",
    "    for Rtar,Vtar,rcs, azt, elt in target_para:\n",
    "        tau_0 = 2*Rtar/constants.c # first pulse target time delay\n",
    "        FD = 2*Vtar/wavelength  # target doppler\n",
    "        ARtar = constants.c*(tau_0-np.floor(tau_0/PRT)*PRT)/2 # apperent range of target\n",
    "        Radar_c = np.sqrt(G**2*wavelength**2*rcs/(4*np.pi)**3)\n",
    "        # *np.exp(2j*np.pi*np.random.random(1)) # radar constant without scale of range\n",
    "        rr = constants.c*(tau_0)/2       # range\n",
    "        Radar_c = Radar_c/rr**2     # return power\n",
    "    \n",
    "        rx=np.zeros(tf.shape,dtype=tx.dtype)       # received signal\n",
    "        rx[:tx.size]=tx\n",
    "    \n",
    "        tau_m = 2*(Rtar-tm*Vtar)/constants.c-tref\n",
    "        rx=np.tile(rx,(npulse,1))\n",
    "        Radar_c=Radar_c\n",
    "        frx=np.fft.fftshift(np.fft.fft(rx,axis=1),axes=1) \n",
    "            # frequency content of received signal\n",
    "        dfrx=frx*np.exp(-2j*np.pi*Faxe*tau_m)   # time delay in frequency domain\n",
    "    \n",
    "        rx=np.fft.ifft(np.fft.fftshift(dfrx,axes=1))*Radar_c\n",
    "        rx=rx*np.exp(2j*np.pi*FD*fast_time)*np.exp(-2j*np.pi*F0*tau_m)\n",
    "        az = azt*np.pi/180\n",
    "        ele = elt*np.pi/180\n",
    "        targetRvector = np.array([np.sin(ele)*np.sin(az),np.sin(ele)*np.cos(az),np.cos(ele)])[np.newaxis,:]\n",
    "        dl = np.sum(element_loct*targetRvector,axis=1)[np.newaxis,np.newaxis,:]\n",
    "        total_rx=total_rx+rx[:,:,np.newaxis]*np.exp(-2j*np.pi*dl/wavelength)\n",
    "    return total_rx"
   ]
  },
  {
   "cell_type": "code",
   "execution_count": null,
   "id": "253a28bb-f89a-42e8-a300-9c82290db29c",
   "metadata": {},
   "outputs": [],
   "source": [
    "def all_digital(element_loct,rx):\n",
    "    matchfilter=np.flipud(np.conj(tx))[np.newaxis,:,np.newaxis]\n",
    "    crx = fftconvolve(rx,matchfilter,1)[:,-rx.shape[1]:,:]\n",
    "    Eloc = DBF(thetaaz,thetaele,wavelength,a0,element_loct,crx)\n",
    "    Beam = np.mean(np.abs(Eloc)**2,axis=0)\n",
    "    r=constants.c*tf/2+rref\n",
    "    plt.pcolormesh(np.squeeze(thetax),np.squeeze(thetay),np.squeeze(Beam[np.abs(r-3e3)==np.min(np.abs(r-3e3)),:,:]))\n",
    "    plt.ylim(-40,40)\n",
    "    plt.xlim(-40,40)\n",
    "    plt.colorbar()"
   ]
  },
  {
   "cell_type": "code",
   "execution_count": null,
   "id": "54277fbc-17d6-49cc-abf2-06c91910561a",
   "metadata": {},
   "outputs": [],
   "source": [
    "def subarray(element_loct,rx):\n",
    "    subarray_rx = np.sum(rx.reshape((rx.shape[0],rx.shape[1],4,8)), axis=2)\n",
    "    subarray_loc0 = np.mean(element_loct.reshape((4,8,3)), axis=0)\n",
    "    matchfilter=np.flipud(np.conj(tx))[np.newaxis,:,np.newaxis]\n",
    "    crx = fftconvolve(subarray_rx,matchfilter,1)[:,-rx.shape[1]:,:]\n",
    "    Eloc = DBF(thetaaz,thetaele,wavelength,a0,subarray_loc0,crx)\n",
    "    Beam = np.mean(np.abs(Eloc)**2,axis=0)\n",
    "    # Beam = np.log10(Beam/np.max(Beam))\n",
    "    r=constants.c*tf/2+rref\n",
    "    # plt.pcolormesh(np.squeeze(thetax),np.squeeze(thetay),np.squeeze(Beam[np.abs(r-3e3)==np.min(np.abs(r-3e3)),:,:]),vmin=-3,vmax=0)\n",
    "    plt.pcolormesh(np.squeeze(thetax),np.squeeze(thetay),np.squeeze(Beam[np.abs(r-3e3)==np.min(np.abs(r-3e3)),:,:]))\n",
    "    plt.ylim(-40,40)\n",
    "    plt.xlim(-40,40)\n",
    "    plt.colorbar()"
   ]
  },
  {
   "cell_type": "markdown",
   "id": "651eb1d0-0b0f-423d-8749-f2a84043c3a0",
   "metadata": {},
   "source": [
    "## set target"
   ]
  },
  {
   "cell_type": "code",
   "execution_count": null,
   "id": "797d7de6-4689-4f29-a9a6-ea94d237ae21",
   "metadata": {},
   "outputs": [],
   "source": [
    "# Rtar_list = [2.95e3,3e3,3.05e3,3.05e3]        # target range\n",
    "\n",
    "# Rtar_list = [3e3,3e3,3e3,3e3]        # target range\n",
    "# Atar_list = [90,     90,  90, 90]              # target azimuth\n",
    "# Etar_list = [0,     0,  30,-10]              # target elevation\n",
    "# Vtar_list = [-20,0,15,-30]               # fix target radial velocity\n",
    "# rcs_list = [1000,1000,1000,1000]         # radar cross section   m^2\n",
    "\n",
    "Rtar_list = [3e3,3e3]        # target range\n",
    "Atar_list = [ 90,0]              # target azimuth\n",
    "Etar_list = [-30,20]              # target elevation\n",
    "Vtar_list = [-30,0]               # fix target radial velocity\n",
    "rcs_list = [1000,1000]         # radar cross section   m^2\n"
   ]
  },
  {
   "cell_type": "markdown",
   "id": "25b3398f-5268-4299-aae5-59b010705413",
   "metadata": {},
   "source": [
    "## array orientation 0 (y+)"
   ]
  },
  {
   "cell_type": "code",
   "execution_count": null,
   "id": "57c6db94-2b38-4fd7-9699-0689951dbfe8",
   "metadata": {},
   "outputs": [],
   "source": [
    "baseline_azimuth = 0\n",
    "element_loct = element_rotate(element_loc0,baseline_azimuth)\n",
    "target_para = zip(Rtar_list, Vtar_list, rcs_list, Atar_list, Etar_list)\n",
    "rx = fire_pulse(element_loct,target_para)"
   ]
  },
  {
   "cell_type": "markdown",
   "id": "34cd7bac-711c-44ef-8ced-a7939bcbde56",
   "metadata": {},
   "source": [
    "### All digital beam forming"
   ]
  },
  {
   "cell_type": "code",
   "execution_count": null,
   "id": "7070c490-2d33-4175-b58c-32178db3a304",
   "metadata": {},
   "outputs": [],
   "source": [
    "all_digital(element_loct,rx)\n",
    "plt.plot(np.array([-90,90])*np.cos(baseline_azimuth*np.pi/180),np.array([-90,90])*np.sin(baseline_azimuth*np.pi/180),'r')\n",
    "plt.axis([-40,40,-40,40])"
   ]
  },
  {
   "cell_type": "markdown",
   "id": "560a3b2b-199e-44ba-86c6-74ab7d3d177c",
   "metadata": {},
   "source": [
    "### Subarray beam forming"
   ]
  },
  {
   "cell_type": "code",
   "execution_count": null,
   "id": "176029b0-3f81-4922-b961-3de811ac81fb",
   "metadata": {},
   "outputs": [],
   "source": [
    "subarray(element_loct,rx)"
   ]
  },
  {
   "cell_type": "code",
   "execution_count": null,
   "id": "17dcf1e1-7217-49a6-bf7a-4b60d0e21c04",
   "metadata": {},
   "outputs": [],
   "source": [
    "baseline_azimuth = 30\n",
    "element_loct = element_rotate(element_loc0,baseline_azimuth)\n",
    "target_para = zip(Rtar_list, Vtar_list, rcs_list, Atar_list, Etar_list)\n",
    "rx = fire_pulse(element_loct,target_para)\n",
    "plt.figure()\n",
    "all_digital(element_loct,rx)\n",
    "plt.plot(np.array([-90,90])*np.cos(baseline_azimuth*np.pi/180),np.array([-90,90])*np.sin(baseline_azimuth*np.pi/180),'r')\n",
    "plt.axis([-40,40,-40,40])\n",
    "plt.figure()\n",
    "subarray(element_loct,rx)"
   ]
  },
  {
   "cell_type": "code",
   "execution_count": null,
   "id": "ad705ad2-3da5-4e79-888d-c734810788a4",
   "metadata": {},
   "outputs": [],
   "source": [
    "baseline_azimuth = 120\n",
    "element_loct = element_rotate(element_loc0,baseline_azimuth)\n",
    "target_para = zip(Rtar_list, Vtar_list, rcs_list, Atar_list, Etar_list)\n",
    "rx = fire_pulse(element_loct,target_para)\n",
    "plt.figure()\n",
    "all_digital(element_loct,rx)\n",
    "plt.plot(np.array([-90,90])*np.cos(baseline_azimuth*np.pi/180),np.array([-90,90])*np.sin(baseline_azimuth*np.pi/180),'r')\n",
    "plt.axis([-40,40,-40,40])\n",
    "plt.figure()\n",
    "subarray(element_loct,rx)"
   ]
  },
  {
   "cell_type": "code",
   "execution_count": null,
   "id": "cc9a175a-5a89-416f-9572-de650206c089",
   "metadata": {},
   "outputs": [],
   "source": []
  }
 ],
 "metadata": {
  "kernelspec": {
   "display_name": "Python 3 (ipykernel)",
   "language": "python",
   "name": "python3"
  },
  "language_info": {
   "codemirror_mode": {
    "name": "ipython",
    "version": 3
   },
   "file_extension": ".py",
   "mimetype": "text/x-python",
   "name": "python",
   "nbconvert_exporter": "python",
   "pygments_lexer": "ipython3",
   "version": "3.10.12"
  }
 },
 "nbformat": 4,
 "nbformat_minor": 5
}
